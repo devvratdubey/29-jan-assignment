{
 "cells": [
  {
   "cell_type": "markdown",
   "id": "a7d1c31a-9166-464d-a3a3-3f3458ff8cd5",
   "metadata": {},
   "source": [
    "q1 answer Guido Van Rossum stared working on python language in late 1980 and released it in 1991\n",
    "\n",
    "q2 answer Python is an interpreted, interactive, object-oriented programming language. It incorporates modules, exceptions, dynamic typing, very high level dynamic data types, and classes. It supports multiple programming paradigms beyond object-oriented programming, such as procedural and functional programming.\n",
    "\n",
    "q3 answer Python is a case−sensitive programming language. This means that it considers uppercase and lowercase letters differently. As a result, in Python, we cannot use two terms with the same characters but different cases interchangeably.\n",
    "\n",
    "q4answer\n",
    "\n",
    ".py is the correct extesnion of python file\n",
    "\n",
    "q5 answer Python is an interpreted language, which means the source code of a Python program is converted into bytecode that is then executed by the Python virtual machine.\n",
    "\n",
    "q6 answer A Python program is constructed from code blocks. A block is a piece of Python program text that is executed as a unit. The following are blocks: a module, a function body, and a class definition. Each command typed interactively is a block. A script file (a file given as standard input to the interpreter or specified as a command line argument to the interpreter) is a code block.\n",
    "\n",
    "q7 answer We can write a single-line comment by adding a single # character before any statement or line of code\n",
    "\n",
    "q8 answer The function sys. version can help us to find the version of python that we are currently working on.\n",
    "\n",
    "q9 answer Python supports the creation of anonymous functions at runtime, using a construct called lambda.\n",
    "\n",
    "q10 answer PIP is a recursive acronym for “Preferred Installer Program” or PIP Installs Packages\n",
    "\n",
    "q11 answer len() Returns the length of an object list() Returns a list print() Prints to the standard output device range() Returns a sequence of numbers, starting from 0 and increments by 1 (by default) tuple() Returns a tuple type() Returns the type of an object sorted() Returns a sorted list round() Rounds a numbers\n",
    "\n",
    "q12 answer An identifier can have a maximum length of 79 characters in Python.\n",
    "\n",
    "q13 answer\n",
    "\n",
    "Presence of third-party modules\n",
    "\n",
    "Extensive support libraries(NumPy for numerical calculations, Pandas for data analytics, etc.)\n",
    "\n",
    "User-friendly data structures\n",
    "\n",
    "Object-Oriented and Procedural Programming language\n",
    "\n",
    "Interpreted Language\n",
    "\n",
    "q14 answer\n",
    "\n",
    "Python uses the dynamic memory allocation which is managed by the Heap data structure. Memory Heap holds the objects and other data structures that will be used in the program. Python memory manager manages the allocation or de-allocation of the heap memory space through the API functions.\n",
    "\n",
    "q15 answer\n",
    "\n",
    "Install python from this link https://www.python.org/downloads/ After this, install it on your PC. Look for the location where PYTHON has been installed on your PC using tge following command on your command prompt: cmd python. The complete path of python.exe can be added by:\n",
    "\n",
    "1.Right-clicking This PC and going to Properties.\n",
    "\n",
    "2.Clicking on the Advanced system settings in the menu on the left.\n",
    "\n",
    "3.Clicking on the Environment Variables button o​n the bottom right.\n",
    "\n",
    "4.In the System variables section, selecting the Path variable and clicking on Edit. The next screen will show all the directories that are currently a part of the PATH variable.\n",
    "\n",
    "5.Clicking on New and entering Python’s install directory.\n",
    "\n",
    "Python can now be used directly from the command prompt without having to write its location. Try executing the command python --version; it will output the version of Python installed on your system.\n",
    "\n",
    "q16 answers\n",
    "\n",
    "Indentation is a very important concept of Python because without properly indenting the Python code, you will end up seeing IndentationError and the code will not get interpreted.\n",
    "\n",
    "Python indentation refers to adding white space before a statement to a particular block of code. In another word, all the statements with the same space to the right, belong to the same code block."
   ]
  },
  {
   "cell_type": "code",
   "execution_count": null,
   "id": "5c581019-3ef7-4dfc-8d1a-f19203ae50df",
   "metadata": {},
   "outputs": [],
   "source": []
  },
  {
   "cell_type": "code",
   "execution_count": null,
   "id": "cad9aab7-0b58-496d-a820-10ccbc832d55",
   "metadata": {},
   "outputs": [],
   "source": []
  },
  {
   "cell_type": "code",
   "execution_count": null,
   "id": "933195db-d373-497d-b700-00528808d698",
   "metadata": {},
   "outputs": [],
   "source": []
  },
  {
   "cell_type": "code",
   "execution_count": null,
   "id": "a1d91923-3317-4b99-a3da-9fd139936cfb",
   "metadata": {},
   "outputs": [],
   "source": []
  },
  {
   "cell_type": "code",
   "execution_count": null,
   "id": "49dadd91-6daa-4291-a3c9-1d027137cf87",
   "metadata": {},
   "outputs": [],
   "source": []
  },
  {
   "cell_type": "code",
   "execution_count": null,
   "id": "b5d32721-b962-4e81-afba-5ab10704b63d",
   "metadata": {},
   "outputs": [],
   "source": []
  },
  {
   "cell_type": "code",
   "execution_count": null,
   "id": "0a3cbadb-387d-40db-83c0-7392212ae054",
   "metadata": {},
   "outputs": [],
   "source": []
  },
  {
   "cell_type": "code",
   "execution_count": null,
   "id": "7471cd1e-11fb-465c-a6f8-549f358065ff",
   "metadata": {},
   "outputs": [],
   "source": []
  },
  {
   "cell_type": "code",
   "execution_count": null,
   "id": "b65c4fc7-3235-4b92-bfae-82c19652c159",
   "metadata": {},
   "outputs": [],
   "source": []
  },
  {
   "cell_type": "code",
   "execution_count": null,
   "id": "d4caae58-fb7d-414c-84c7-55c0a2475281",
   "metadata": {},
   "outputs": [],
   "source": []
  },
  {
   "cell_type": "code",
   "execution_count": null,
   "id": "611ed152-142c-4ca0-b81f-2eb47155768a",
   "metadata": {},
   "outputs": [],
   "source": []
  },
  {
   "cell_type": "code",
   "execution_count": null,
   "id": "d1219743-a1dd-4312-92f8-e65d71ce78d4",
   "metadata": {},
   "outputs": [],
   "source": []
  },
  {
   "cell_type": "code",
   "execution_count": null,
   "id": "bffa80ab-1c08-4087-92fa-d1398c41655e",
   "metadata": {},
   "outputs": [],
   "source": []
  },
  {
   "cell_type": "code",
   "execution_count": null,
   "id": "7fb4385c-bf86-410c-8bf3-66be93a05c75",
   "metadata": {},
   "outputs": [],
   "source": []
  },
  {
   "cell_type": "code",
   "execution_count": null,
   "id": "160cdcca-5555-4f00-b0d9-4a2e7e82d7fd",
   "metadata": {},
   "outputs": [],
   "source": []
  }
 ],
 "metadata": {
  "kernelspec": {
   "display_name": "Python 3 (ipykernel)",
   "language": "python",
   "name": "python3"
  },
  "language_info": {
   "codemirror_mode": {
    "name": "ipython",
    "version": 3
   },
   "file_extension": ".py",
   "mimetype": "text/x-python",
   "name": "python",
   "nbconvert_exporter": "python",
   "pygments_lexer": "ipython3",
   "version": "3.10.8"
  }
 },
 "nbformat": 4,
 "nbformat_minor": 5
}
